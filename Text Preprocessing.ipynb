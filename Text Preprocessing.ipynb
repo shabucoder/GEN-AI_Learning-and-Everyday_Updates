{
 "cells": [
  {
   "cell_type": "markdown",
   "metadata": {},
   "source": [
    "----------------------------------------------------------------------------------\n",
    "WORD ENCODING--- Going thru WORD ENCODING TECHNIQUES\n",
    "1. One - hot Encoding \n",
    "2. BOW\n",
    "3.TF-IDF\n",
    "\n"
   ]
  },
  {
   "cell_type": "code",
   "execution_count": null,
   "metadata": {},
   "outputs": [],
   "source": [
    "## 1. Basic One-Hot Encoding for a Small Corpus\n",
    "## Question: Create a one-hot encoding for a vocabulary derived from the following sentences:\n",
    "\n",
    "##  [\"I love programming in python\"]"
   ]
  },
  {
   "cell_type": "code",
   "execution_count": 3,
   "metadata": {},
   "outputs": [
    {
     "name": "stdout",
     "output_type": "stream",
     "text": [
      "<class 'list'>\n"
     ]
    }
   ],
   "source": [
    "sentance = [\"I love programming in python\"]\n",
    "print(type(sentance))"
   ]
  },
  {
   "cell_type": "code",
   "execution_count": 9,
   "metadata": {},
   "outputs": [
    {
     "name": "stdout",
     "output_type": "stream",
     "text": [
      "<class 'list'>\n",
      "Sentance splitted into words: [['I', 'love', 'programming', 'in', 'python']]\n",
      "Unique words in the sentance: ['I', 'in', 'love', 'programming', 'python']\n"
     ]
    }
   ],
   "source": [
    "tokens = []\n",
    "\n",
    "for i in sentance:\n",
    "    tokens.append(i.split())\n",
    "print(type(tokens))\n",
    "print('Sentance splitted into words:',tokens)\n",
    "vocabulary = sorted(list(set(tokens[0])))\n",
    "print('Unique words in the sentance:',vocabulary)\n",
    "\n"
   ]
  },
  {
   "cell_type": "code",
   "execution_count": 10,
   "metadata": {},
   "outputs": [],
   "source": [
    "## importing Required Librabries and Dependendies\n",
    "import pandas as pd \n",
    "from sklearn.preprocessing import OneHotEncoder\n"
   ]
  },
  {
   "cell_type": "code",
   "execution_count": 13,
   "metadata": {},
   "outputs": [],
   "source": [
    "OneHotEncoder_1=OneHotEncoder()\n",
    "\n",
    "encoder=OneHotEncoder_1.fit([[word] for word in vocabulary])"
   ]
  },
  {
   "cell_type": "code",
   "execution_count": 25,
   "metadata": {},
   "outputs": [],
   "source": [
    "encoded_words=[]\n",
    "for i in vocabulary:\n",
    "    encoded_word=encoder.transform([[i]]).toarray()\n",
    "    encoded_words.append(encoded_word)\n",
    "                      "
   ]
  },
  {
   "cell_type": "code",
   "execution_count": 21,
   "metadata": {},
   "outputs": [
    {
     "name": "stdout",
     "output_type": "stream",
     "text": [
      "<class 'list'>\n",
      "<class 'list'>\n",
      "Sentence split into words: ['I', 'love', 'programming', 'in', 'python']\n",
      "Unique words in the sentence: ['I', 'in', 'love', 'programming', 'python']\n",
      "Encoded Word: [[1. 0. 0. 0. 0.]]\n",
      "Encoded Word: [[0. 0. 1. 0. 0.]]\n",
      "Encoded Word: [[0. 0. 0. 1. 0.]]\n",
      "Encoded Word: [[0. 1. 0. 0. 0.]]\n",
      "Encoded Word: [[0. 0. 0. 0. 1.]]\n",
      "Encoded words:\n",
      "I: [[1. 0. 0. 0. 0.]]\n",
      "love: [[0. 0. 1. 0. 0.]]\n",
      "programming: [[0. 0. 0. 1. 0.]]\n",
      "in: [[0. 1. 0. 0. 0.]]\n",
      "python: [[0. 0. 0. 0. 1.]]\n"
     ]
    }
   ],
   "source": [
    "sentance = [\"I love programming in python\"]\n",
    "print(type(sentance))  # Output: <class 'list'>\n",
    "\n",
    "# Tokenize the sentence\n",
    "tokens = []\n",
    "for i in sentance:\n",
    "    tokens.extend(i.split())  # Flatten the words directly into `tokens`\n",
    "\n",
    "print(type(tokens))  # Output: <class 'list'>\n",
    "print('Sentence split into words:', tokens)\n",
    "\n",
    "# Create vocabulary\n",
    "vocabulary = sorted(list(set(tokens)))  # Unique words\n",
    "print('Unique words in the sentence:', vocabulary)\n",
    "\n",
    "# Import required libraries\n",
    "import pandas as pd\n",
    "from sklearn.preprocessing import OneHotEncoder\n",
    "\n",
    "# Initialize and fit the OneHotEncoder\n",
    "encoder = OneHotEncoder()\n",
    "encoder.fit([[word] for word in vocabulary])  # Fit with the vocabulary\n",
    "\n",
    "# Transform the sentence\n",
    "encoded_words = []\n",
    "for word in tokens:\n",
    "    encoded_word = encoder.transform([[word]]).toarray()\n",
    "    print('Encoded Word:', encoded_word)\n",
    "    encoded_words.append(encoded_word)\n",
    "\n",
    "print(\"Encoded words:\")\n",
    "for word, encoded in zip(tokens, encoded_words):\n",
    "    print(f\"{word}: {encoded}\")\n"
   ]
  },
  {
   "cell_type": "code",
   "execution_count": 26,
   "metadata": {},
   "outputs": [],
   "source": [
    "## One-Hot Encoding Using Scikit-learn\n",
    "## Task: Encode the words: [\"apple\", \"banana\", \"cherry\", \"banana\"] into one-hot vectors."
   ]
  },
  {
   "cell_type": "code",
   "execution_count": 34,
   "metadata": {},
   "outputs": [
    {
     "name": "stdout",
     "output_type": "stream",
     "text": [
      "Word: apple -> One-Hot Encoding: [[1. 0. 0.]]\n",
      "Word: banana -> One-Hot Encoding: [[0. 1. 0.]]\n",
      "Word: cherry -> One-Hot Encoding: [[0. 0. 1.]]\n"
     ]
    }
   ],
   "source": [
    "words = [\"apple\", \"banana\", \"cherry\", \"banana\"]\n",
    "words = sorted(list(set(words)))\n",
    "\n",
    "Onehotencoder = OneHotEncoder()\n",
    "\n",
    "OneHotEncoder_fit = Onehotencoder.fit([[word] for word in words])\n",
    "\n",
    "encoded_vectors=[]\n",
    "for word in words:\n",
    "    encoded_vector=OneHotEncoder_fit.transform([[word]]).toarray()\n",
    "    encoded_vectors.append(encoded_vector)\n",
    "\n",
    "for word, vector in zip(sorted(list(set(words))), encoded_vectors):\n",
    "    print(f\"Word: {word} -> One-Hot Encoding: {vector}\")\n"
   ]
  },
  {
   "cell_type": "code",
   "execution_count": 52,
   "metadata": {},
   "outputs": [],
   "source": [
    "corpus = [\n",
    "    \"The cat sat on the mat\",\n",
    "    \"The dog barked at the mailman\",\n",
    "    \"The bird sang in the morning\"\n",
    "]"
   ]
  },
  {
   "cell_type": "code",
   "execution_count": 53,
   "metadata": {},
   "outputs": [
    {
     "data": {
      "text/plain": [
       "[['The', 'cat', 'sat', 'on', 'the', 'mat'],\n",
       " ['The', 'dog', 'barked', 'at', 'the', 'mailman'],\n",
       " ['The', 'bird', 'sang', 'in', 'the', 'morning']]"
      ]
     },
     "execution_count": 53,
     "metadata": {},
     "output_type": "execute_result"
    }
   ],
   "source": [
    "tokens = [sentence.split() for sentence in corpus]\n",
    "\n",
    "tokens"
   ]
  },
  {
   "cell_type": "code",
   "execution_count": 56,
   "metadata": {},
   "outputs": [
    {
     "data": {
      "text/plain": [
       "['The',\n",
       " 'at',\n",
       " 'barked',\n",
       " 'bird',\n",
       " 'cat',\n",
       " 'dog',\n",
       " 'in',\n",
       " 'mailman',\n",
       " 'mat',\n",
       " 'morning',\n",
       " 'on',\n",
       " 'sang',\n",
       " 'sat',\n",
       " 'the']"
      ]
     },
     "execution_count": 56,
     "metadata": {},
     "output_type": "execute_result"
    }
   ],
   "source": [
    "unique_words = sorted(list(set(word for sentence in tokens for word in sentence)))\n",
    "unique_words"
   ]
  },
  {
   "cell_type": "code",
   "execution_count": 58,
   "metadata": {},
   "outputs": [
    {
     "name": "stdout",
     "output_type": "stream",
     "text": [
      "Sentence: 'The cat sat on the mat'\n",
      "The: [1. 0. 0. 0. 0. 0. 0. 0. 0. 0. 0. 0. 0. 0.]\n",
      "cat: [0. 0. 0. 0. 1. 0. 0. 0. 0. 0. 0. 0. 0. 0.]\n",
      "sat: [0. 0. 0. 0. 0. 0. 0. 0. 0. 0. 0. 0. 1. 0.]\n",
      "on: [0. 0. 0. 0. 0. 0. 0. 0. 0. 0. 1. 0. 0. 0.]\n",
      "the: [0. 0. 0. 0. 0. 0. 0. 0. 0. 0. 0. 0. 0. 1.]\n",
      "mat: [0. 0. 0. 0. 0. 0. 0. 0. 1. 0. 0. 0. 0. 0.]\n",
      "\n",
      "Sentence: 'The dog barked at the mailman'\n",
      "The: [1. 0. 0. 0. 0. 0. 0. 0. 0. 0. 0. 0. 0. 0.]\n",
      "dog: [0. 0. 0. 0. 0. 1. 0. 0. 0. 0. 0. 0. 0. 0.]\n",
      "barked: [0. 0. 1. 0. 0. 0. 0. 0. 0. 0. 0. 0. 0. 0.]\n",
      "at: [0. 1. 0. 0. 0. 0. 0. 0. 0. 0. 0. 0. 0. 0.]\n",
      "the: [0. 0. 0. 0. 0. 0. 0. 0. 0. 0. 0. 0. 0. 1.]\n",
      "mailman: [0. 0. 0. 0. 0. 0. 0. 1. 0. 0. 0. 0. 0. 0.]\n",
      "\n",
      "Sentence: 'The bird sang in the morning'\n",
      "The: [1. 0. 0. 0. 0. 0. 0. 0. 0. 0. 0. 0. 0. 0.]\n",
      "bird: [0. 0. 0. 1. 0. 0. 0. 0. 0. 0. 0. 0. 0. 0.]\n",
      "sang: [0. 0. 0. 0. 0. 0. 0. 0. 0. 0. 0. 1. 0. 0.]\n",
      "in: [0. 0. 0. 0. 0. 0. 1. 0. 0. 0. 0. 0. 0. 0.]\n",
      "the: [0. 0. 0. 0. 0. 0. 0. 0. 0. 0. 0. 0. 0. 1.]\n",
      "morning: [0. 0. 0. 0. 0. 0. 0. 0. 0. 1. 0. 0. 0. 0.]\n",
      "\n"
     ]
    }
   ],
   "source": [
    "Onehotencoder = OneHotEncoder(sparse_output=False)\n",
    "\n",
    "Onehotencoder.fit([[word] for word in unique_words])\n",
    "\n",
    "encoded_sentences = []\n",
    "for sentence in tokens:\n",
    "    # Transform each word in the sentence into one-hot encoding\n",
    "    encoded_sentence = Onehotencoder.transform([[word] for word in sentence])\n",
    "    encoded_sentences.append(encoded_sentence)\n",
    "\n",
    "\n",
    "for i, sentence in enumerate(corpus):\n",
    "    print(f\"Sentence: '{sentence}'\")\n",
    "    for word, encoded in zip(tokens[i], encoded_sentences[i]):\n",
    "        print(f\"{word}: {encoded}\")\n",
    "    print()"
   ]
  },
  {
   "cell_type": "code",
   "execution_count": null,
   "metadata": {},
   "outputs": [],
   "source": [
    "Text = \"I love programming. Programming is fun and challenging.\"\n",
    "Text = Text.lower()\n",
    "\n",
    "from sklearn.feature_extraction.text import CountVectorizer\n",
    "\n",
    "Text = Text.split()\n",
    "\n",
    "unique_text = sorted(list(set(Text)))\n",
    "\n",
    "unique_text\n",
    "\n",
    "vectorizer = CountVectorizer()\n",
    "\n",
    "\n",
    "vectorizer.fit_transform([Text]).toarray()\n",
    "\n",
    "vectorizer.get_feature_names_out()\n",
    "\n"
   ]
  },
  {
   "cell_type": "code",
   "execution_count": 77,
   "metadata": {},
   "outputs": [],
   "source": [
    "Text = Text.split()"
   ]
  },
  {
   "cell_type": "code",
   "execution_count": 78,
   "metadata": {},
   "outputs": [
    {
     "data": {
      "text/plain": [
       "['i',\n",
       " 'love',\n",
       " 'programming.',\n",
       " 'programming',\n",
       " 'is',\n",
       " 'fun',\n",
       " 'and',\n",
       " 'challenging.']"
      ]
     },
     "execution_count": 78,
     "metadata": {},
     "output_type": "execute_result"
    }
   ],
   "source": [
    "Text"
   ]
  },
  {
   "cell_type": "code",
   "execution_count": 79,
   "metadata": {},
   "outputs": [],
   "source": [
    "unique_text = sorted(list(set(Text)))"
   ]
  },
  {
   "cell_type": "code",
   "execution_count": 80,
   "metadata": {},
   "outputs": [
    {
     "data": {
      "text/plain": [
       "['and',\n",
       " 'challenging.',\n",
       " 'fun',\n",
       " 'i',\n",
       " 'is',\n",
       " 'love',\n",
       " 'programming',\n",
       " 'programming.']"
      ]
     },
     "execution_count": 80,
     "metadata": {},
     "output_type": "execute_result"
    }
   ],
   "source": [
    "unique_text"
   ]
  },
  {
   "cell_type": "code",
   "execution_count": 81,
   "metadata": {},
   "outputs": [],
   "source": [
    "vectorizer = CountVectorizer()"
   ]
  },
  {
   "cell_type": "code",
   "execution_count": 88,
   "metadata": {},
   "outputs": [
    {
     "data": {
      "text/plain": [
       "array([[1, 1, 1, 1, 1, 2]])"
      ]
     },
     "execution_count": 88,
     "metadata": {},
     "output_type": "execute_result"
    }
   ],
   "source": [
    "vectorizer.fit_transform([Text]).toarray()"
   ]
  },
  {
   "cell_type": "code",
   "execution_count": 84,
   "metadata": {},
   "outputs": [
    {
     "data": {
      "text/plain": [
       "array(['and', 'challenging', 'fun', 'is', 'love', 'programming'],\n",
       "      dtype=object)"
      ]
     },
     "execution_count": 84,
     "metadata": {},
     "output_type": "execute_result"
    }
   ],
   "source": [
    "vectorizer.get_feature_names_out()"
   ]
  },
  {
   "cell_type": "code",
   "execution_count": 89,
   "metadata": {},
   "outputs": [
    {
     "data": {
      "text/plain": [
       "{'love': 4, 'programming': 5, 'is': 3, 'fun': 2, 'and': 0, 'challenging': 1}"
      ]
     },
     "execution_count": 89,
     "metadata": {},
     "output_type": "execute_result"
    }
   ],
   "source": [
    "vectorizer.vocabulary_"
   ]
  },
  {
   "cell_type": "code",
   "execution_count": 107,
   "metadata": {},
   "outputs": [],
   "source": [
    "texts = [\n",
    "    \"The cat sat on the mat\",\n",
    "    \"The dog barked at the cat\",\n",
    "    \"The bird sang a song\"\n",
    "]"
   ]
  },
  {
   "cell_type": "code",
   "execution_count": 108,
   "metadata": {},
   "outputs": [],
   "source": [
    "dtm = vectorizer.fit_transform(texts).toarray()"
   ]
  },
  {
   "cell_type": "code",
   "execution_count": 109,
   "metadata": {},
   "outputs": [
    {
     "data": {
      "text/plain": [
       "{'the': 10,\n",
       " 'cat': 3,\n",
       " 'sat': 8,\n",
       " 'on': 6,\n",
       " 'mat': 5,\n",
       " 'dog': 4,\n",
       " 'barked': 1,\n",
       " 'at': 0,\n",
       " 'bird': 2,\n",
       " 'sang': 7,\n",
       " 'song': 9}"
      ]
     },
     "execution_count": 109,
     "metadata": {},
     "output_type": "execute_result"
    }
   ],
   "source": [
    "vectorizer.vocabulary_"
   ]
  },
  {
   "cell_type": "code",
   "execution_count": 110,
   "metadata": {},
   "outputs": [
    {
     "name": "stdout",
     "output_type": "stream",
     "text": [
      "\u001b[31mERROR: Could not find a version that satisfies the requirement matplotlit.pyplot (from versions: none)\u001b[0m\u001b[31m\n",
      "\u001b[0m\u001b[31mERROR: No matching distribution found for matplotlit.pyplot\u001b[0m\u001b[31m\n",
      "\u001b[0mNote: you may need to restart the kernel to use updated packages.\n"
     ]
    }
   ],
   "source": [
    "pip install matplotlit.pyplot"
   ]
  },
  {
   "cell_type": "code",
   "execution_count": 111,
   "metadata": {},
   "outputs": [
    {
     "data": {
      "image/png": "[encoded data removed]",
      "text/plain": [
       "<Figure size 1000x600 with 2 Axes>"
      ]
     },
     "metadata": {},
     "output_type": "display_data"
    }
   ],
   "source": [
    "import seaborn as sns \n",
    "import matplotlib.pyplot as plt\n",
    "plt.figure(figsize=(10, 6))\n",
    "sns.heatmap(dtm, annot=True, fmt=\"d\", cmap=\"YlGnBu\", xticklabels=vocabulary, yticklabels=[f\"Doc{i+1}\" for i in range(len(texts))])\n",
    "plt.title(\"Document-Term Matrix Heatmap\")\n",
    "plt.xlabel(\"Terms\")\n",
    "plt.ylabel(\"Documents\")\n",
    "plt.show()"
   ]
  },
  {
   "cell_type": "code",
   "execution_count": 114,
   "metadata": {},
   "outputs": [
    {
     "data": {
      "text/plain": [
       "['I love this movie',\n",
       " 'This movie was terrible',\n",
       " 'An excellent film with great acting',\n",
       " 'The plot was boring']"
      ]
     },
     "execution_count": 114,
     "metadata": {},
     "output_type": "execute_result"
    }
   ],
   "source": [
    "from sklearn.feature_extraction.text import CountVectorizer\n",
    "from sklearn.model_selection import train_test_split\n",
    "from sklearn.naive_bayes import MultinomialNB\n",
    "from sklearn.metrics import accuracy_score\n",
    "\n",
    "# Dataset\n",
    "dataset = [\n",
    "    (\"I love this movie\", \"positive\"),\n",
    "    (\"This movie was terrible\", \"negative\"),\n",
    "    (\"An excellent film with great acting\", \"positive\"),\n",
    "    (\"The plot was boring\", \"negative\"),\n",
    "]\n",
    "\n",
    "# Step 1: Split the dataset into features and labels\n",
    "texts = [text for text, sentiment in dataset]\n",
    "labels = [sentiment for text, sentiment in dataset]\n",
    "\n",
    "texts"
   ]
  },
  {
   "cell_type": "code",
   "execution_count": null,
   "metadata": {},
   "outputs": [],
   "source": []
  }
 ],
 "metadata": {
  "kernelspec": {
   "display_name": "venv",
   "language": "python",
   "name": "python3"
  },
  "language_info": {
   "codemirror_mode": {
    "name": "ipython",
    "version": 3
   },
   "file_extension": ".py",
   "mimetype": "text/x-python",
   "name": "python",
   "nbconvert_exporter": "python",
   "pygments_lexer": "ipython3",
   "version": "3.10.15"
  }
 },
 "nbformat": 4,
 "nbformat_minor": 2
}
